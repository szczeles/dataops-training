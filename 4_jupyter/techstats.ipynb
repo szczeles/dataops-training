{
 "cells": [
  {
   "cell_type": "code",
   "execution_count": 19,
   "metadata": {},
   "outputs": [],
   "source": [
    "from pyspark.sql import SparkSession\n",
    "from pyspark.sql.functions import *\n",
    "import argparse\n",
    "\n",
    "spark = (SparkSession.builder\n",
    "    .config('spark.sql.sources.partitionOverwriteMode', 'dynamic')\n",
    "    .config('hive.exec.dynamic.partition.mode', 'nonstrict')\n",
    "    .enableHiveSupport().getOrCreate())"
   ]
  },
  {
   "cell_type": "code",
   "execution_count": 20,
   "metadata": {},
   "outputs": [],
   "source": [
    "# ! hdfs dfs -ls /data/stackoverflow/parquet"
   ]
  },
  {
   "cell_type": "code",
   "execution_count": 21,
   "metadata": {},
   "outputs": [],
   "source": [
    "# spark.catalog.createTable('stackoverflow.tags', path='/data/stackoverflow/parquet/Tags')"
   ]
  },
  {
   "cell_type": "code",
   "execution_count": null,
   "metadata": {},
   "outputs": [],
   "source": []
  },
  {
   "cell_type": "code",
   "execution_count": 23,
   "metadata": {},
   "outputs": [],
   "source": [
    "parser = argparse.ArgumentParser()\n",
    "parser.add_argument('--date')\n",
    "args = parser.parse_args()\n",
    "\n",
    "DAY = args.date"
   ]
  },
  {
   "cell_type": "code",
   "execution_count": 5,
   "metadata": {},
   "outputs": [],
   "source": [
    "posts = spark.table('stackoverflow.posts')"
   ]
  },
  {
   "cell_type": "code",
   "execution_count": 6,
   "metadata": {},
   "outputs": [],
   "source": [
    "# posts.groupBy('PostTypeId').count().show()"
   ]
  },
  {
   "cell_type": "code",
   "execution_count": 7,
   "metadata": {},
   "outputs": [],
   "source": [
    "is_question = (col('PostTypeId') == 1) # according to https://ia800107.us.archive.org/27/items/stackexchange/readme.txt\n",
    "tag_popularity_in_questions = (posts.where(is_question & (col('CreationDate').cast('date') == DAY))\n",
    "    .select('Id', explode('Tags').alias('tag'))\n",
    "    .groupBy('tag').count())"
   ]
  },
  {
   "cell_type": "code",
   "execution_count": 8,
   "metadata": {},
   "outputs": [],
   "source": [
    "# tag_popularity_in_questions.orderBy(desc('count')).show()"
   ]
  },
  {
   "cell_type": "code",
   "execution_count": 9,
   "metadata": {},
   "outputs": [],
   "source": [
    "is_answer = (col('PostTypeId') == 2)"
   ]
  },
  {
   "cell_type": "code",
   "execution_count": 10,
   "metadata": {},
   "outputs": [],
   "source": [
    "answers_today = posts.where(is_answer & (col('CreationDate').cast('date') == DAY)).alias('a')\n",
    "all_questions = posts.where(is_question).alias('q')\n",
    "tag_popularity_in_answers = (answers_today.join(all_questions, col('a.ParentId') == col('q.Id')).select('q.Tags')\n",
    "    .select(explode('Tags').alias('tag')).groupBy('tag').count())"
   ]
  },
  {
   "cell_type": "code",
   "execution_count": 11,
   "metadata": {},
   "outputs": [],
   "source": [
    "votes = spark.table('stackoverflow.votes')\n",
    "votes_today = (votes.where(col('VoteTypeId').isin(2, 3))\n",
    "    .where(col('CreationDate').cast('date') == DAY).select('PostId'))"
   ]
  },
  {
   "cell_type": "code",
   "execution_count": 12,
   "metadata": {},
   "outputs": [],
   "source": [
    "# spark.conf.set('spark.sql.autoBroadcastJoinThreshold', '1000000')\n",
    "# https://jaceklaskowski.gitbooks.io/mastering-spark-sql/spark-sql-joins-broadcast.html"
   ]
  },
  {
   "cell_type": "code",
   "execution_count": 13,
   "metadata": {},
   "outputs": [],
   "source": [
    "all_questions = posts.where(is_question).drop('PostTypeId').alias('q')\n",
    "all_posts = posts.alias('p')"
   ]
  },
  {
   "cell_type": "code",
   "execution_count": 14,
   "metadata": {},
   "outputs": [],
   "source": [
    "tag_popularity_in_votes = (all_posts.join(broadcast(votes_today), votes_today.PostId == col('p.Id'))\n",
    "    .join(all_questions, col('q.Id') == col('p.ParentId'), how='left')\n",
    "    .select(coalesce('q.Tags', 'p.Tags').alias('valid_tags'))\n",
    "    .select(explode('valid_tags').alias('tag')).groupBy('tag').count())"
   ]
  },
  {
   "cell_type": "code",
   "execution_count": 15,
   "metadata": {},
   "outputs": [],
   "source": [
    "questions_points = tag_popularity_in_questions.withColumnRenamed('count', 'questions')\n",
    "answers_points = tag_popularity_in_answers.withColumnRenamed('count', 'answers')\n",
    "votes_points = tag_popularity_in_votes.withColumnRenamed('count', 'votes')"
   ]
  },
  {
   "cell_type": "code",
   "execution_count": 16,
   "metadata": {},
   "outputs": [],
   "source": [
    "results = (questions_points.join(answers_points, 'tag', how='full')\n",
    "    .join(votes_points, 'tag', how='full').fillna(0, ['questions', 'answers', 'votes'])\n",
    "    .withColumn('dt', lit(DAY)))"
   ]
  },
  {
   "cell_type": "code",
   "execution_count": 17,
   "metadata": {},
   "outputs": [
    {
     "data": {
      "text/plain": [
       "DataFrame[]"
      ]
     },
     "execution_count": 17,
     "metadata": {},
     "output_type": "execute_result"
    }
   ],
   "source": [
    "create_table_statement = '''\n",
    "create table if not exists stackoverflow.techstats (\n",
    "  tag string,\n",
    "  questions bigint,\n",
    "  answers bigint,\n",
    "  votes bigint\n",
    ") \n",
    "partitioned by (dt string)\n",
    "'''\n",
    "spark.sql(create_table_statement)"
   ]
  },
  {
   "cell_type": "code",
   "execution_count": 18,
   "metadata": {},
   "outputs": [],
   "source": [
    "results.write.insertInto('stackoverflow.techstats')"
   ]
  }
 ],
 "metadata": {
  "kernelspec": {
   "display_name": "Python 3",
   "language": "python",
   "name": "python3"
  },
  "language_info": {
   "codemirror_mode": {
    "name": "ipython",
    "version": 3
   },
   "file_extension": ".py",
   "mimetype": "text/x-python",
   "name": "python",
   "nbconvert_exporter": "python",
   "pygments_lexer": "ipython3",
   "version": "3.4.2"
  }
 },
 "nbformat": 4,
 "nbformat_minor": 2
}
