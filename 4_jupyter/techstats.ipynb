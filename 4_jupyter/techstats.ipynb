{
 "cells": [
  {
   "cell_type": "code",
   "execution_count": 1,
   "metadata": {},
   "outputs": [],
   "source": [
    "from pyspark.sql import SparkSession\n",
    "from pyspark.sql.functions import *\n",
    "\n",
    "spark = SparkSession.builder.enableHiveSupport().getOrCreate()"
   ]
  },
  {
   "cell_type": "code",
   "execution_count": 2,
   "metadata": {},
   "outputs": [],
   "source": [
    "# ! hdfs dfs -ls /data/stackoverflow/parquet"
   ]
  },
  {
   "cell_type": "code",
   "execution_count": 3,
   "metadata": {},
   "outputs": [],
   "source": [
    "# spark.catalog.createTable('stackoverflow.tags', path='/data/stackoverflow/parquet/Tags')"
   ]
  },
  {
   "cell_type": "code",
   "execution_count": 4,
   "metadata": {},
   "outputs": [],
   "source": [
    "DAY = '2019-09-01'"
   ]
  },
  {
   "cell_type": "code",
   "execution_count": 5,
   "metadata": {},
   "outputs": [],
   "source": [
    "posts = spark.table('stackoverflow.posts')"
   ]
  },
  {
   "cell_type": "code",
   "execution_count": 6,
   "metadata": {},
   "outputs": [
    {
     "name": "stdout",
     "output_type": "stream",
     "text": [
      "+----------+--------+\n",
      "|PostTypeId|   count|\n",
      "+----------+--------+\n",
      "|         1|18154493|\n",
      "|         6|     324|\n",
      "|         3|     167|\n",
      "|         5|   49909|\n",
      "|         4|   49909|\n",
      "|         8|       2|\n",
      "|         7|       4|\n",
      "|         2|27665009|\n",
      "+----------+--------+\n",
      "\n"
     ]
    }
   ],
   "source": [
    "posts.groupBy('PostTypeId').count().show()"
   ]
  },
  {
   "cell_type": "code",
   "execution_count": 7,
   "metadata": {},
   "outputs": [],
   "source": [
    "is_question = (col('PostTypeId') == 1) # according to https://ia800107.us.archive.org/27/items/stackexchange/readme.txt\n",
    "tag_popularity_in_questions = posts.where(is_question & (col('CreationDate').cast('date') == DAY)) \\\n",
    "    .select('Id', explode('Tags').alias('tag')) \\\n",
    "    .groupBy('tag').count()"
   ]
  },
  {
   "cell_type": "code",
   "execution_count": 8,
   "metadata": {},
   "outputs": [],
   "source": [
    "# tag_popularity_in_questions.orderBy(desc('count')).show()"
   ]
  },
  {
   "cell_type": "code",
   "execution_count": 9,
   "metadata": {},
   "outputs": [],
   "source": [
    "is_answer = (col('PostTypeId') == 2)"
   ]
  },
  {
   "cell_type": "code",
   "execution_count": 19,
   "metadata": {},
   "outputs": [],
   "source": [
    "answers_today = posts.where(is_answer & (col('CreationDate').cast('date') == DAY)).alias('a')\n",
    "all_questions = posts.where(is_question).alias('q')\n",
    "tag_popularity_in_answers = answers_today.join(all_questions, col('a.ParentId') == col('q.Id')).select('q.Tags') \\\n",
    "    .select(explode('Tags').alias('tag')).groupBy('tag').count()"
   ]
  }
 ],
 "metadata": {
  "kernelspec": {
   "display_name": "Python 3",
   "language": "python",
   "name": "python3"
  },
  "language_info": {
   "codemirror_mode": {
    "name": "ipython",
    "version": 3
   },
   "file_extension": ".py",
   "mimetype": "text/x-python",
   "name": "python",
   "nbconvert_exporter": "python",
   "pygments_lexer": "ipython3",
   "version": "3.4.2"
  }
 },
 "nbformat": 4,
 "nbformat_minor": 2
}
