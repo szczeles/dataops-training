{
 "cells": [
  {
   "cell_type": "code",
   "execution_count": null,
   "metadata": {},
   "outputs": [],
   "source": [
    "from pyspark.sql import SparkSession\n",
    "from pyspark.sql.functions import *\n",
    "from pyspark.sql.types import *\n",
    "\n",
    "spark = SparkSession.builder.enableHiveSupport().getOrCreate()"
   ]
  },
  {
   "cell_type": "code",
   "execution_count": null,
   "metadata": {},
   "outputs": [],
   "source": [
    "import re\n",
    "import html\n",
    "\n",
    "pattern = re.compile(' ([A-Za-z]+)=\"([^\"]*)\"')\n",
    "parse_line = lambda line: {key:value for key,value in pattern.findall(line)}\n",
    "unescape = udf(lambda escaped: html.unescape(escaped) if escaped else None)\n",
    "\n",
    "def read_tags_raw(tags_string): # converts <tag1><tag2> to ['tag1', 'tag2']\n",
    "    return html.unescape(tags_string).strip('>').strip('<').split('><') if tags_string else []\n",
    "    \n",
    "read_tags = udf(read_tags_raw, ArrayType(StringType()))"
   ]
  },
  {
   "cell_type": "code",
   "execution_count": null,
   "metadata": {},
   "outputs": [],
   "source": [
    "spark.read.text('file:///c/Users/Mariusz/Desktop/Badges.xml').where(col('value').like('%<row Id%')) \\\n",
    "    .select(udf(parse_line, MapType(StringType(), StringType()))('value').alias('value')) \\\n",
    "    .select(\n",
    "        col('value.Id').cast('integer'),\n",
    "        col('value.UserId').cast('integer'),\n",
    "        col('value.Name'),\n",
    "        col('value.Date').cast('timestamp'),\n",
    "        col('value.Class').cast('integer'),\n",
    "        col('value.TagBased').cast('boolean')\n",
    "    ).write.parquet('/data/stackoverflow/parquet/Badges')"
   ]
  }
 ],
 "metadata": {
  "kernelspec": {
   "display_name": "Python 3",
   "language": "python",
   "name": "python3"
  },
  "language_info": {
   "codemirror_mode": {
    "name": "ipython",
    "version": 3
   },
   "file_extension": ".py",
   "mimetype": "text/x-python",
   "name": "python",
   "nbconvert_exporter": "python",
   "pygments_lexer": "ipython3",
   "version": "3.4.2"
  }
 },
 "nbformat": 4,
 "nbformat_minor": 2
}
